{
 "cells": [
  {
   "cell_type": "markdown",
   "id": "b9e81f9f-5deb-49ce-ba90-c21d4e498da7",
   "metadata": {},
   "source": [
    "# MLOps Zoomcamp week-2"
   ]
  },
  {
   "cell_type": "markdown",
   "id": "caaa7403-5a90-4dd9-80d0-e5a1b05d811e",
   "metadata": {},
   "source": [
    "## Q1"
   ]
  },
  {
   "cell_type": "code",
   "execution_count": 1,
   "id": "72c2aeb0-2eaf-408e-b61e-1fd1d7997d0c",
   "metadata": {},
   "outputs": [
    {
     "name": "stdout",
     "output_type": "stream",
     "text": [
      "Collecting mlflow\n",
      "  Downloading mlflow-1.26.1-py3-none-any.whl (17.8 MB)\n",
      "\u001b[2K     \u001b[90m━━━━━━━━━━━━━━━━━━━━━━━━━━━━━━━━━━━━━━━━\u001b[0m \u001b[32m17.8/17.8 MB\u001b[0m \u001b[31m9.5 MB/s\u001b[0m eta \u001b[36m0:00:00\u001b[0m00:01\u001b[0m00:01\u001b[0m\n",
      "\u001b[?25hCollecting sqlparse>=0.3.1\n",
      "  Using cached sqlparse-0.4.2-py3-none-any.whl (42 kB)\n",
      "Requirement already satisfied: requests>=2.17.3 in /home/siddh/Learning/mlops-zoomcamp/MLOps-Zoomcamp/env/lib/python3.10/site-packages (from mlflow) (2.27.1)\n",
      "Collecting protobuf>=3.12.0\n",
      "  Downloading protobuf-4.21.1-cp37-abi3-manylinux2014_x86_64.whl (407 kB)\n",
      "\u001b[2K     \u001b[90m━━━━━━━━━━━━━━━━━━━━━━━━━━━━━━━━━━━━━━\u001b[0m \u001b[32m407.8/407.8 KB\u001b[0m \u001b[31m12.4 MB/s\u001b[0m eta \u001b[36m0:00:00\u001b[0m\n",
      "\u001b[?25hCollecting Flask\n",
      "  Using cached Flask-2.1.2-py3-none-any.whl (95 kB)\n",
      "Collecting cloudpickle\n",
      "  Using cached cloudpickle-2.1.0-py3-none-any.whl (25 kB)\n",
      "Collecting prometheus-flask-exporter\n",
      "  Using cached prometheus_flask_exporter-0.20.1-py3-none-any.whl (18 kB)\n",
      "Collecting databricks-cli>=0.8.7\n",
      "  Using cached databricks-cli-0.16.6.tar.gz (62 kB)\n",
      "  Preparing metadata (setup.py) ... \u001b[?25ldone\n",
      "\u001b[?25hCollecting querystring-parser\n",
      "  Using cached querystring_parser-1.2.4-py2.py3-none-any.whl (7.9 kB)\n",
      "Collecting docker>=4.0.0\n",
      "  Using cached docker-5.0.3-py2.py3-none-any.whl (146 kB)\n",
      "Collecting sqlalchemy\n",
      "  Downloading SQLAlchemy-1.4.37-cp310-cp310-manylinux_2_5_x86_64.manylinux1_x86_64.manylinux_2_17_x86_64.manylinux2014_x86_64.whl (1.6 MB)\n",
      "\u001b[2K     \u001b[90m━━━━━━━━━━━━━━━━━━━━━━━━━━━━━━━━━━━━━━━━\u001b[0m \u001b[32m1.6/1.6 MB\u001b[0m \u001b[31m10.6 MB/s\u001b[0m eta \u001b[36m0:00:00\u001b[0ma \u001b[36m0:00:01\u001b[0m\n",
      "\u001b[?25hRequirement already satisfied: packaging in /home/siddh/Learning/mlops-zoomcamp/MLOps-Zoomcamp/env/lib/python3.10/site-packages (from mlflow) (21.3)\n",
      "Collecting alembic\n",
      "  Downloading alembic-1.8.0-py3-none-any.whl (209 kB)\n",
      "\u001b[2K     \u001b[90m━━━━━━━━━━━━━━━━━━━━━━━━━━━━━━━━━━━━━━━\u001b[0m \u001b[32m209.3/209.3 KB\u001b[0m \u001b[31m8.3 MB/s\u001b[0m eta \u001b[36m0:00:00\u001b[0m\n",
      "\u001b[?25hRequirement already satisfied: entrypoints in /home/siddh/Learning/mlops-zoomcamp/MLOps-Zoomcamp/env/lib/python3.10/site-packages (from mlflow) (0.4)\n",
      "Collecting gitpython>=2.1.0\n",
      "  Using cached GitPython-3.1.27-py3-none-any.whl (181 kB)\n",
      "Collecting pyyaml>=5.1\n",
      "  Using cached PyYAML-6.0-cp310-cp310-manylinux_2_5_x86_64.manylinux1_x86_64.manylinux_2_12_x86_64.manylinux2010_x86_64.whl (682 kB)\n",
      "Requirement already satisfied: numpy in /home/siddh/Learning/mlops-zoomcamp/MLOps-Zoomcamp/env/lib/python3.10/site-packages (from mlflow) (1.22.4)\n",
      "Collecting importlib-metadata!=4.7.0,>=3.7.0\n",
      "  Using cached importlib_metadata-4.11.4-py3-none-any.whl (18 kB)\n",
      "Requirement already satisfied: scipy in /home/siddh/Learning/mlops-zoomcamp/MLOps-Zoomcamp/env/lib/python3.10/site-packages (from mlflow) (1.8.1)\n",
      "Requirement already satisfied: pandas in /home/siddh/Learning/mlops-zoomcamp/MLOps-Zoomcamp/env/lib/python3.10/site-packages (from mlflow) (1.4.2)\n",
      "Requirement already satisfied: pytz in /home/siddh/Learning/mlops-zoomcamp/MLOps-Zoomcamp/env/lib/python3.10/site-packages (from mlflow) (2022.1)\n",
      "Collecting gunicorn\n",
      "  Using cached gunicorn-20.1.0-py3-none-any.whl (79 kB)\n",
      "Collecting click>=7.0\n",
      "  Using cached click-8.1.3-py3-none-any.whl (96 kB)\n",
      "Collecting oauthlib>=3.1.0\n",
      "  Using cached oauthlib-3.2.0-py3-none-any.whl (151 kB)\n",
      "Collecting pyjwt>=1.7.0\n",
      "  Using cached PyJWT-2.4.0-py3-none-any.whl (18 kB)\n",
      "Requirement already satisfied: six>=1.10.0 in /home/siddh/Learning/mlops-zoomcamp/MLOps-Zoomcamp/env/lib/python3.10/site-packages (from databricks-cli>=0.8.7->mlflow) (1.16.0)\n",
      "Collecting tabulate>=0.7.7\n",
      "  Using cached tabulate-0.8.9-py3-none-any.whl (25 kB)\n",
      "Requirement already satisfied: websocket-client>=0.32.0 in /home/siddh/Learning/mlops-zoomcamp/MLOps-Zoomcamp/env/lib/python3.10/site-packages (from docker>=4.0.0->mlflow) (1.3.2)\n",
      "Collecting gitdb<5,>=4.0.1\n",
      "  Using cached gitdb-4.0.9-py3-none-any.whl (63 kB)\n",
      "Collecting zipp>=0.5\n",
      "  Using cached zipp-3.8.0-py3-none-any.whl (5.4 kB)\n",
      "Requirement already satisfied: urllib3<1.27,>=1.21.1 in /home/siddh/Learning/mlops-zoomcamp/MLOps-Zoomcamp/env/lib/python3.10/site-packages (from requests>=2.17.3->mlflow) (1.26.9)\n",
      "Requirement already satisfied: certifi>=2017.4.17 in /home/siddh/Learning/mlops-zoomcamp/MLOps-Zoomcamp/env/lib/python3.10/site-packages (from requests>=2.17.3->mlflow) (2022.5.18.1)\n",
      "Requirement already satisfied: idna<4,>=2.5 in /home/siddh/Learning/mlops-zoomcamp/MLOps-Zoomcamp/env/lib/python3.10/site-packages (from requests>=2.17.3->mlflow) (3.3)\n",
      "Requirement already satisfied: charset-normalizer~=2.0.0 in /home/siddh/Learning/mlops-zoomcamp/MLOps-Zoomcamp/env/lib/python3.10/site-packages (from requests>=2.17.3->mlflow) (2.0.12)\n",
      "Collecting Mako\n",
      "  Using cached Mako-1.2.0-py3-none-any.whl (78 kB)\n",
      "Collecting greenlet!=0.4.17\n",
      "  Using cached greenlet-1.1.2-cp310-cp310-manylinux_2_17_x86_64.manylinux2014_x86_64.whl (155 kB)\n",
      "Requirement already satisfied: Jinja2>=3.0 in /home/siddh/Learning/mlops-zoomcamp/MLOps-Zoomcamp/env/lib/python3.10/site-packages (from Flask->mlflow) (3.1.2)\n",
      "Collecting Werkzeug>=2.0\n",
      "  Using cached Werkzeug-2.1.2-py3-none-any.whl (224 kB)\n",
      "Collecting itsdangerous>=2.0\n",
      "  Using cached itsdangerous-2.1.2-py3-none-any.whl (15 kB)\n",
      "Requirement already satisfied: setuptools>=3.0 in /home/siddh/Learning/mlops-zoomcamp/MLOps-Zoomcamp/env/lib/python3.10/site-packages (from gunicorn->mlflow) (59.6.0)\n",
      "Requirement already satisfied: pyparsing!=3.0.5,>=2.0.2 in /home/siddh/Learning/mlops-zoomcamp/MLOps-Zoomcamp/env/lib/python3.10/site-packages (from packaging->mlflow) (3.0.9)\n",
      "Requirement already satisfied: python-dateutil>=2.8.1 in /home/siddh/Learning/mlops-zoomcamp/MLOps-Zoomcamp/env/lib/python3.10/site-packages (from pandas->mlflow) (2.8.2)\n",
      "Requirement already satisfied: prometheus-client in /home/siddh/Learning/mlops-zoomcamp/MLOps-Zoomcamp/env/lib/python3.10/site-packages (from prometheus-flask-exporter->mlflow) (0.14.1)\n",
      "Collecting smmap<6,>=3.0.1\n",
      "  Using cached smmap-5.0.0-py3-none-any.whl (24 kB)\n",
      "Requirement already satisfied: MarkupSafe>=2.0 in /home/siddh/Learning/mlops-zoomcamp/MLOps-Zoomcamp/env/lib/python3.10/site-packages (from Jinja2>=3.0->Flask->mlflow) (2.1.1)\n",
      "Using legacy 'setup.py install' for databricks-cli, since package 'wheel' is not installed.\n",
      "Installing collected packages: tabulate, zipp, Werkzeug, sqlparse, smmap, querystring-parser, pyyaml, pyjwt, protobuf, oauthlib, Mako, itsdangerous, gunicorn, greenlet, cloudpickle, click, sqlalchemy, importlib-metadata, gitdb, Flask, docker, databricks-cli, prometheus-flask-exporter, gitpython, alembic, mlflow\n",
      "  Running setup.py install for databricks-cli ... \u001b[?25ldone\n",
      "\u001b[?25hSuccessfully installed Flask-2.1.2 Mako-1.2.0 Werkzeug-2.1.2 alembic-1.8.0 click-8.1.3 cloudpickle-2.1.0 databricks-cli-0.16.6 docker-5.0.3 gitdb-4.0.9 gitpython-3.1.27 greenlet-1.1.2 gunicorn-20.1.0 importlib-metadata-4.11.4 itsdangerous-2.1.2 mlflow-1.26.1 oauthlib-3.2.0 prometheus-flask-exporter-0.20.1 protobuf-4.21.1 pyjwt-2.4.0 pyyaml-6.0 querystring-parser-1.2.4 smmap-5.0.0 sqlalchemy-1.4.37 sqlparse-0.4.2 tabulate-0.8.9 zipp-3.8.0\n"
     ]
    }
   ],
   "source": [
    "!pip install mlflow"
   ]
  },
  {
   "cell_type": "code",
   "execution_count": 2,
   "id": "72985bd1-e9f4-42bf-a371-edf89d5548bc",
   "metadata": {},
   "outputs": [
    {
     "name": "stdout",
     "output_type": "stream",
     "text": [
      "mlflow, version 1.26.1\n"
     ]
    }
   ],
   "source": [
    "!mlflow --version"
   ]
  },
  {
   "cell_type": "markdown",
   "id": "94dc3a80-17ab-425f-842b-cf2e888596ec",
   "metadata": {},
   "source": [
    "### The version is 1.26.1"
   ]
  },
  {
   "cell_type": "code",
   "execution_count": 3,
   "id": "f70afa8e-aac7-40f3-85c4-2d2a55d7740e",
   "metadata": {},
   "outputs": [
    {
     "name": "stdout",
     "output_type": "stream",
     "text": [
      "--2022-06-02 15:00:11--  https://s3.amazonaws.com/nyc-tlc/trip+data/green_tripdata_2021-01.parquet\n",
      "Resolving s3.amazonaws.com (s3.amazonaws.com)... 52.217.44.134\n",
      "Connecting to s3.amazonaws.com (s3.amazonaws.com)|52.217.44.134|:443... connected.\n",
      "HTTP request sent, awaiting response... 200 OK\n",
      "Length: 1333519 (1.3M) [binary/octet-stream]\n",
      "Saving to: ‘data/green_tripdata_2021-01.parquet’\n",
      "\n",
      "green_tripdata_2021 100%[===================>]   1.27M   318KB/s    in 4.1s    \n",
      "\n",
      "2022-06-02 15:00:16 (318 KB/s) - ‘data/green_tripdata_2021-01.parquet’ saved [1333519/1333519]\n",
      "\n"
     ]
    }
   ],
   "source": [
    "!wget https://s3.amazonaws.com/nyc-tlc/trip+data/green_tripdata_2021-01.parquet -P data/"
   ]
  },
  {
   "cell_type": "code",
   "execution_count": 4,
   "id": "4c027246-c36c-4eb9-8de4-48d793079c1c",
   "metadata": {},
   "outputs": [
    {
     "name": "stdout",
     "output_type": "stream",
     "text": [
      "--2022-06-02 15:00:38--  https://s3.amazonaws.com/nyc-tlc/trip+data/green_tripdata_2021-02.parquet\n",
      "Resolving s3.amazonaws.com (s3.amazonaws.com)... 52.216.17.243\n",
      "Connecting to s3.amazonaws.com (s3.amazonaws.com)|52.216.17.243|:443... connected.\n",
      "HTTP request sent, awaiting response... 200 OK\n",
      "Length: 1145679 (1.1M) [binary/octet-stream]\n",
      "Saving to: ‘data/green_tripdata_2021-02.parquet’\n",
      "\n",
      "green_tripdata_2021 100%[===================>]   1.09M   265KB/s    in 4.4s    \n",
      "\n",
      "2022-06-02 15:00:43 (255 KB/s) - ‘data/green_tripdata_2021-02.parquet’ saved [1145679/1145679]\n",
      "\n"
     ]
    }
   ],
   "source": [
    "!wget https://s3.amazonaws.com/nyc-tlc/trip+data/green_tripdata_2021-02.parquet -P data/"
   ]
  },
  {
   "cell_type": "code",
   "execution_count": 5,
   "id": "a9a34169-5b86-4da0-806d-72bae7a33a4d",
   "metadata": {},
   "outputs": [
    {
     "name": "stdout",
     "output_type": "stream",
     "text": [
      "--2022-06-02 15:00:52--  https://s3.amazonaws.com/nyc-tlc/trip+data/green_tripdata_2021-03.parquet\n",
      "Resolving s3.amazonaws.com (s3.amazonaws.com)... 52.216.96.37\n",
      "Connecting to s3.amazonaws.com (s3.amazonaws.com)|52.216.96.37|:443... connected.\n",
      "HTTP request sent, awaiting response... 200 OK\n",
      "Length: 1474538 (1.4M) [binary/octet-stream]\n",
      "Saving to: ‘data/green_tripdata_2021-03.parquet’\n",
      "\n",
      "green_tripdata_2021 100%[===================>]   1.41M   976KB/s    in 1.5s    \n",
      "\n",
      "2022-06-02 15:00:55 (976 KB/s) - ‘data/green_tripdata_2021-03.parquet’ saved [1474538/1474538]\n",
      "\n"
     ]
    }
   ],
   "source": [
    "!wget https://s3.amazonaws.com/nyc-tlc/trip+data/green_tripdata_2021-03.parquet -P data/"
   ]
  },
  {
   "cell_type": "markdown",
   "id": "507ef3cc-ecf7-4c7b-9f8f-59bf7312e6df",
   "metadata": {},
   "source": [
    "## Q2"
   ]
  },
  {
   "cell_type": "code",
   "execution_count": 7,
   "id": "74cff4a5-fecc-4720-a6ba-92a2c15b9426",
   "metadata": {},
   "outputs": [],
   "source": [
    "!python preprocess_data.py --raw_data_path data/ --dest_path ./output"
   ]
  },
  {
   "cell_type": "code",
   "execution_count": 14,
   "id": "96885c16-90f9-48a9-a836-e20e5581826d",
   "metadata": {},
   "outputs": [
    {
     "name": "stdout",
     "output_type": "stream",
     "text": [
      "dv.pkl\n",
      "test.pkl\n",
      "train.pkl\n",
      "valid.pkl\n"
     ]
    }
   ],
   "source": [
    "!ls -1 output/"
   ]
  },
  {
   "cell_type": "markdown",
   "id": "32a822c3-500f-4326-a07a-5579a07227e6",
   "metadata": {},
   "source": [
    "### There were 4 files saved to output"
   ]
  },
  {
   "cell_type": "markdown",
   "id": "6cb11145-44a9-4383-aeb2-196f0e1049d4",
   "metadata": {},
   "source": [
    "## Q3    "
   ]
  },
  {
   "cell_type": "code",
   "execution_count": 15,
   "id": "7ebf5d2e-f88c-4bee-9a86-1e707a84e09e",
   "metadata": {},
   "outputs": [
    {
     "name": "stdout",
     "output_type": "stream",
     "text": [
      "2022/06/02 15:38:22 INFO mlflow.store.db.utils: Creating initial MLflow database tables...\n",
      "2022/06/02 15:38:22 INFO mlflow.store.db.utils: Updating database tables\n",
      "INFO  [alembic.runtime.migration] Context impl SQLiteImpl.\n",
      "INFO  [alembic.runtime.migration] Will assume non-transactional DDL.\n",
      "INFO  [alembic.runtime.migration] Running upgrade  -> 451aebb31d03, add metric step\n",
      "INFO  [alembic.runtime.migration] Running upgrade 451aebb31d03 -> 90e64c465722, migrate user column to tags\n",
      "INFO  [alembic.runtime.migration] Running upgrade 90e64c465722 -> 181f10493468, allow nulls for metric values\n",
      "INFO  [alembic.runtime.migration] Running upgrade 181f10493468 -> df50e92ffc5e, Add Experiment Tags Table\n",
      "INFO  [alembic.runtime.migration] Running upgrade df50e92ffc5e -> 7ac759974ad8, Update run tags with larger limit\n",
      "INFO  [alembic.runtime.migration] Running upgrade 7ac759974ad8 -> 89d4b8295536, create latest metrics table\n",
      "INFO  [89d4b8295536_create_latest_metrics_table_py] Migration complete!\n",
      "INFO  [alembic.runtime.migration] Running upgrade 89d4b8295536 -> 2b4d017a5e9b, add model registry tables to db\n",
      "INFO  [2b4d017a5e9b_add_model_registry_tables_to_db_py] Adding registered_models and model_versions tables to database.\n",
      "INFO  [2b4d017a5e9b_add_model_registry_tables_to_db_py] Migration complete!\n",
      "INFO  [alembic.runtime.migration] Running upgrade 2b4d017a5e9b -> cfd24bdc0731, Update run status constraint with killed\n",
      "INFO  [alembic.runtime.migration] Running upgrade cfd24bdc0731 -> 0a8213491aaa, drop_duplicate_killed_constraint\n",
      "INFO  [alembic.runtime.migration] Running upgrade 0a8213491aaa -> 728d730b5ebd, add registered model tags table\n",
      "INFO  [alembic.runtime.migration] Running upgrade 728d730b5ebd -> 27a6a02d2cf1, add model version tags table\n",
      "INFO  [alembic.runtime.migration] Running upgrade 27a6a02d2cf1 -> 84291f40a231, add run_link to model_version\n",
      "INFO  [alembic.runtime.migration] Running upgrade 84291f40a231 -> a8c4a736bde6, allow nulls for run_id\n",
      "INFO  [alembic.runtime.migration] Running upgrade a8c4a736bde6 -> 39d1c3be5f05, add_is_nan_constraint_for_metrics_tables_if_necessary\n",
      "INFO  [alembic.runtime.migration] Running upgrade 39d1c3be5f05 -> c48cb773bb87, reset_default_value_for_is_nan_in_metrics_table_for_mysql\n",
      "INFO  [alembic.runtime.migration] Running upgrade c48cb773bb87 -> bd07f7e963c5, create index on run_uuid\n",
      "INFO  [alembic.runtime.migration] Context impl SQLiteImpl.\n",
      "INFO  [alembic.runtime.migration] Will assume non-transactional DDL.\n",
      "2022/06/02 15:38:22 INFO mlflow.tracking.fluent: Experiment with name 'nyc-taxi-problem' does not exist. Creating a new experiment.\n",
      "2022/06/02 15:38:22 INFO mlflow.tracking.fluent: Autologging successfully enabled for sklearn.\n"
     ]
    }
   ],
   "source": [
    "!python train.py --data_path ./output/"
   ]
  },
  {
   "cell_type": "markdown",
   "id": "d129d0c6-2927-4937-80ed-f37c72dbe369",
   "metadata": {},
   "source": [
    "![image.png](images/image-1.png)"
   ]
  },
  {
   "cell_type": "markdown",
   "id": "70b201a1-43a9-4959-af63-df9b1e403667",
   "metadata": {},
   "source": [
    "### The number of parameters automatically logged are 17"
   ]
  },
  {
   "cell_type": "markdown",
   "id": "20a2ec05-f8a3-4715-928e-88856becd469",
   "metadata": {},
   "source": [
    "## Q4"
   ]
  },
  {
   "cell_type": "markdown",
   "id": "76a027b5-a184-44dd-afdd-e6512b0034f9",
   "metadata": {},
   "source": [
    "### In addition to backend-store-uri we need to pass `default-artifact-root` to configure the server"
   ]
  },
  {
   "cell_type": "markdown",
   "id": "f5bcd760-57b2-4100-9ff0-317abe2a29ec",
   "metadata": {},
   "source": [
    "## Q5"
   ]
  },
  {
   "cell_type": "code",
   "execution_count": 16,
   "id": "3630ccb3-a235-42c0-8919-b7dcbd8355c6",
   "metadata": {},
   "outputs": [
    {
     "name": "stdout",
     "output_type": "stream",
     "text": [
      "2022/06/02 19:08:48 INFO mlflow.tracking.fluent: Experiment with name 'random-forest-hyperopt' does not exist. Creating a new experiment.\n",
      "100%|█████████| 50/50 [05:44<00:00,  6.89s/trial, best loss: 6.6284257482044735]\n"
     ]
    }
   ],
   "source": [
    "!python hpo.py"
   ]
  },
  {
   "cell_type": "markdown",
   "id": "ece73ab1-9a45-456b-bfa5-e256b1cd24b6",
   "metadata": {},
   "source": [
    "### The best validation RMSE is 6.628\n",
    "![image.png](images/image-3.png)"
   ]
  },
  {
   "cell_type": "markdown",
   "id": "4b287f5d-25e4-439f-ac93-379a7cefbeba",
   "metadata": {},
   "source": [
    "## Q6"
   ]
  },
  {
   "cell_type": "code",
   "execution_count": 18,
   "id": "74e83bb6-ea1b-4b17-9a9d-e5390f209971",
   "metadata": {},
   "outputs": [
    {
     "name": "stdout",
     "output_type": "stream",
     "text": [
      "Successfully registered model 'best_model'.\n",
      "2022/06/02 19:31:02 INFO mlflow.tracking._model_registry.client: Waiting up to 300 seconds for model version to finish creation.                     Model name: best_model, version 1\n",
      "Created version '1' of model 'best_model'.\n"
     ]
    }
   ],
   "source": [
    "!python register_model.py"
   ]
  },
  {
   "cell_type": "markdown",
   "id": "9153c6f9-e32f-45e3-863b-5fadd3609fc6",
   "metadata": {},
   "source": [
    "### The test RMSE of the best model is 6.55\n",
    "![image.png](images/image-2.png)"
   ]
  },
  {
   "cell_type": "code",
   "execution_count": null,
   "id": "83b12dbd-3da9-45d4-9e64-014a3d736786",
   "metadata": {},
   "outputs": [],
   "source": []
  }
 ],
 "metadata": {
  "kernelspec": {
   "display_name": "Python 3 (ipykernel)",
   "language": "python",
   "name": "python3"
  },
  "language_info": {
   "codemirror_mode": {
    "name": "ipython",
    "version": 3
   },
   "file_extension": ".py",
   "mimetype": "text/x-python",
   "name": "python",
   "nbconvert_exporter": "python",
   "pygments_lexer": "ipython3",
   "version": "3.10.4"
  }
 },
 "nbformat": 4,
 "nbformat_minor": 5
}
