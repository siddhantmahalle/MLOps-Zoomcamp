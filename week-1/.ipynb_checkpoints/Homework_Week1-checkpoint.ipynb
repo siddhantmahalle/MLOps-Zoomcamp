{
 "cells": [
  {
   "cell_type": "markdown",
   "id": "83bd0c13",
   "metadata": {},
   "source": [
    "# MLOps Zoomcamp week-1"
   ]
  },
  {
   "cell_type": "code",
   "execution_count": 1,
   "id": "9e15afc6",
   "metadata": {},
   "outputs": [],
   "source": [
    "import pandas as pd\n",
    "\n",
    "import pickle\n",
    "\n",
    "import seaborn as sns\n",
    "import matplotlib.pyplot as plt\n",
    "\n",
    "from sklearn.feature_extraction import DictVectorizer\n",
    "from sklearn.linear_model import LinearRegression\n",
    "from sklearn.linear_model import Lasso\n",
    "from sklearn.linear_model import Ridge\n",
    "\n",
    "from sklearn.metrics import mean_squared_error"
   ]
  },
  {
   "cell_type": "code",
   "execution_count": 2,
   "id": "4af0b440",
   "metadata": {},
   "outputs": [],
   "source": [
    "df = pd.read_parquet('/home/ubuntu/notebooks/data/fhv_tripdata_2021-01.parquet')"
   ]
  },
  {
   "cell_type": "code",
   "execution_count": 3,
   "id": "5c20af6e",
   "metadata": {
    "scrolled": true
   },
   "outputs": [
    {
     "data": {
      "text/html": [
       "<div>\n",
       "<style scoped>\n",
       "    .dataframe tbody tr th:only-of-type {\n",
       "        vertical-align: middle;\n",
       "    }\n",
       "\n",
       "    .dataframe tbody tr th {\n",
       "        vertical-align: top;\n",
       "    }\n",
       "\n",
       "    .dataframe thead th {\n",
       "        text-align: right;\n",
       "    }\n",
       "</style>\n",
       "<table border=\"1\" class=\"dataframe\">\n",
       "  <thead>\n",
       "    <tr style=\"text-align: right;\">\n",
       "      <th></th>\n",
       "      <th>dispatching_base_num</th>\n",
       "      <th>pickup_datetime</th>\n",
       "      <th>dropOff_datetime</th>\n",
       "      <th>PUlocationID</th>\n",
       "      <th>DOlocationID</th>\n",
       "      <th>SR_Flag</th>\n",
       "      <th>Affiliated_base_number</th>\n",
       "    </tr>\n",
       "  </thead>\n",
       "  <tbody>\n",
       "    <tr>\n",
       "      <th>0</th>\n",
       "      <td>B00009</td>\n",
       "      <td>2021-01-01 00:27:00</td>\n",
       "      <td>2021-01-01 00:44:00</td>\n",
       "      <td>NaN</td>\n",
       "      <td>NaN</td>\n",
       "      <td>None</td>\n",
       "      <td>B00009</td>\n",
       "    </tr>\n",
       "    <tr>\n",
       "      <th>1</th>\n",
       "      <td>B00009</td>\n",
       "      <td>2021-01-01 00:50:00</td>\n",
       "      <td>2021-01-01 01:07:00</td>\n",
       "      <td>NaN</td>\n",
       "      <td>NaN</td>\n",
       "      <td>None</td>\n",
       "      <td>B00009</td>\n",
       "    </tr>\n",
       "    <tr>\n",
       "      <th>2</th>\n",
       "      <td>B00013</td>\n",
       "      <td>2021-01-01 00:01:00</td>\n",
       "      <td>2021-01-01 01:51:00</td>\n",
       "      <td>NaN</td>\n",
       "      <td>NaN</td>\n",
       "      <td>None</td>\n",
       "      <td>B00013</td>\n",
       "    </tr>\n",
       "    <tr>\n",
       "      <th>3</th>\n",
       "      <td>B00037</td>\n",
       "      <td>2021-01-01 00:13:09</td>\n",
       "      <td>2021-01-01 00:21:26</td>\n",
       "      <td>NaN</td>\n",
       "      <td>72.0</td>\n",
       "      <td>None</td>\n",
       "      <td>B00037</td>\n",
       "    </tr>\n",
       "    <tr>\n",
       "      <th>4</th>\n",
       "      <td>B00037</td>\n",
       "      <td>2021-01-01 00:38:31</td>\n",
       "      <td>2021-01-01 00:53:44</td>\n",
       "      <td>NaN</td>\n",
       "      <td>61.0</td>\n",
       "      <td>None</td>\n",
       "      <td>B00037</td>\n",
       "    </tr>\n",
       "  </tbody>\n",
       "</table>\n",
       "</div>"
      ],
      "text/plain": [
       "  dispatching_base_num     pickup_datetime    dropOff_datetime  PUlocationID  \\\n",
       "0               B00009 2021-01-01 00:27:00 2021-01-01 00:44:00           NaN   \n",
       "1               B00009 2021-01-01 00:50:00 2021-01-01 01:07:00           NaN   \n",
       "2               B00013 2021-01-01 00:01:00 2021-01-01 01:51:00           NaN   \n",
       "3               B00037 2021-01-01 00:13:09 2021-01-01 00:21:26           NaN   \n",
       "4               B00037 2021-01-01 00:38:31 2021-01-01 00:53:44           NaN   \n",
       "\n",
       "   DOlocationID SR_Flag Affiliated_base_number  \n",
       "0           NaN    None                 B00009  \n",
       "1           NaN    None                 B00009  \n",
       "2           NaN    None                 B00013  \n",
       "3          72.0    None                 B00037  \n",
       "4          61.0    None                 B00037  "
      ]
     },
     "execution_count": 3,
     "metadata": {},
     "output_type": "execute_result"
    }
   ],
   "source": [
    "df.head()"
   ]
  },
  {
   "cell_type": "markdown",
   "id": "9827aa02",
   "metadata": {},
   "source": [
    "## Q1."
   ]
  },
  {
   "cell_type": "code",
   "execution_count": 4,
   "id": "ae64202c",
   "metadata": {
    "scrolled": true
   },
   "outputs": [
    {
     "data": {
      "text/plain": [
       "(1154112, 7)"
      ]
     },
     "execution_count": 4,
     "metadata": {},
     "output_type": "execute_result"
    }
   ],
   "source": [
    "df.shape"
   ]
  },
  {
   "cell_type": "markdown",
   "id": "d0ed2ca4",
   "metadata": {},
   "source": [
    "### No of records = 1154112"
   ]
  },
  {
   "cell_type": "markdown",
   "id": "35292e5d",
   "metadata": {},
   "source": [
    "## Q2."
   ]
  },
  {
   "cell_type": "code",
   "execution_count": 5,
   "id": "d6b072c9",
   "metadata": {},
   "outputs": [],
   "source": [
    "df['duration'] = df.dropOff_datetime - df.pickup_datetime\n",
    "\n",
    "df.duration = df.duration.apply(lambda td: td.total_seconds() / 60)"
   ]
  },
  {
   "cell_type": "code",
   "execution_count": 6,
   "id": "5cb3d6ee",
   "metadata": {},
   "outputs": [
    {
     "data": {
      "text/plain": [
       "19.1672240937939"
      ]
     },
     "execution_count": 6,
     "metadata": {},
     "output_type": "execute_result"
    }
   ],
   "source": [
    "df.duration.mean()"
   ]
  },
  {
   "cell_type": "markdown",
   "id": "280e2c93",
   "metadata": {},
   "source": [
    "### The average trip duration in January is 19.16 minutes"
   ]
  },
  {
   "cell_type": "markdown",
   "id": "bb7a3395",
   "metadata": {},
   "source": [
    "## No of Records dropped"
   ]
  },
  {
   "cell_type": "code",
   "execution_count": 7,
   "id": "ae0c468b",
   "metadata": {},
   "outputs": [],
   "source": [
    "df = df[(df.duration >= 1) & (df.duration <= 60)]"
   ]
  },
  {
   "cell_type": "code",
   "execution_count": 8,
   "id": "a3271aa1",
   "metadata": {},
   "outputs": [
    {
     "data": {
      "text/plain": [
       "(1109826, 8)"
      ]
     },
     "execution_count": 8,
     "metadata": {},
     "output_type": "execute_result"
    }
   ],
   "source": [
    "df.shape"
   ]
  },
  {
   "cell_type": "markdown",
   "id": "2215f53f",
   "metadata": {},
   "source": [
    "### No of records dropped = (1154112 - 1109826) = 44286"
   ]
  },
  {
   "cell_type": "markdown",
   "id": "f1e712f5",
   "metadata": {},
   "source": [
    "## Q3."
   ]
  },
  {
   "cell_type": "code",
   "execution_count": 9,
   "id": "9b99b1ee",
   "metadata": {},
   "outputs": [],
   "source": [
    "df.PUlocationID.fillna(-1, inplace=True)\n",
    "df.DOlocationID.fillna(-1, inplace=True)"
   ]
  },
  {
   "cell_type": "code",
   "execution_count": 10,
   "id": "6d1157df",
   "metadata": {},
   "outputs": [
    {
     "data": {
      "text/plain": [
       "83.52732770722618"
      ]
     },
     "execution_count": 10,
     "metadata": {},
     "output_type": "execute_result"
    }
   ],
   "source": [
    "(df.PUlocationID[df.PUlocationID == -1].shape[0])/df.shape[0] * 100"
   ]
  },
  {
   "cell_type": "markdown",
   "id": "2ac79711",
   "metadata": {},
   "source": [
    "### The fractions of missing values for the pickup location ID is 83.52%"
   ]
  },
  {
   "cell_type": "markdown",
   "id": "6f055128",
   "metadata": {},
   "source": [
    "## Q4."
   ]
  },
  {
   "cell_type": "code",
   "execution_count": 11,
   "id": "49dcb69f",
   "metadata": {},
   "outputs": [],
   "source": [
    "categorical = ['PUlocationID', 'DOlocationID']\n",
    "\n",
    "df[categorical] = df[categorical].astype(str)"
   ]
  },
  {
   "cell_type": "code",
   "execution_count": 13,
   "id": "fd6ed24d",
   "metadata": {},
   "outputs": [],
   "source": [
    "columns = categorical + ['duration']"
   ]
  },
  {
   "cell_type": "code",
   "execution_count": 12,
   "id": "a528155d",
   "metadata": {},
   "outputs": [],
   "source": [
    "train_dicts = df[categorical].to_dict(orient='records')"
   ]
  },
  {
   "cell_type": "code",
   "execution_count": 33,
   "id": "01d66b4e",
   "metadata": {},
   "outputs": [],
   "source": [
    "dv = DictVectorizer()\n",
    "X_train = dv.fit_transform(train_dicts)"
   ]
  },
  {
   "cell_type": "code",
   "execution_count": 34,
   "id": "dc0c0cce",
   "metadata": {},
   "outputs": [
    {
     "data": {
      "text/plain": [
       "525"
      ]
     },
     "execution_count": 34,
     "metadata": {},
     "output_type": "execute_result"
    }
   ],
   "source": [
    "X_train.shape[1]"
   ]
  },
  {
   "cell_type": "markdown",
   "id": "043e7a0a",
   "metadata": {},
   "source": [
    "### The dimensionality of this matrix is 525"
   ]
  },
  {
   "cell_type": "markdown",
   "id": "a94a8071",
   "metadata": {},
   "source": [
    "## Q5."
   ]
  },
  {
   "cell_type": "code",
   "execution_count": 17,
   "id": "133709f2",
   "metadata": {},
   "outputs": [],
   "source": [
    "df = df[columns]"
   ]
  },
  {
   "cell_type": "code",
   "execution_count": 18,
   "id": "18c1215c",
   "metadata": {},
   "outputs": [],
   "source": [
    "y_train = df['duration'].values"
   ]
  },
  {
   "cell_type": "code",
   "execution_count": 19,
   "id": "c7d860e5",
   "metadata": {},
   "outputs": [
    {
     "data": {
      "text/plain": [
       "10.5285191072072"
      ]
     },
     "execution_count": 19,
     "metadata": {},
     "output_type": "execute_result"
    }
   ],
   "source": [
    "lr = LinearRegression()\n",
    "lr.fit(X_train, y_train)\n",
    "\n",
    "y_pred = lr.predict(X_train)\n",
    "\n",
    "mean_squared_error(y_train, y_pred, squared=False)"
   ]
  },
  {
   "cell_type": "markdown",
   "id": "8f08d75d",
   "metadata": {},
   "source": [
    "### The RSME on train dataset is 10.52"
   ]
  },
  {
   "cell_type": "markdown",
   "id": "682e3405",
   "metadata": {},
   "source": [
    "## Q6."
   ]
  },
  {
   "cell_type": "code",
   "execution_count": 35,
   "id": "ab3fce56",
   "metadata": {},
   "outputs": [],
   "source": [
    "val_df = pd.read_parquet('/home/ubuntu/notebooks/data/fhv_tripdata_2021-02.parquet')"
   ]
  },
  {
   "cell_type": "code",
   "execution_count": 36,
   "id": "4ef44f85",
   "metadata": {},
   "outputs": [],
   "source": [
    "val_df['duration'] = val_df.dropOff_datetime - val_df.pickup_datetime\n",
    "\n",
    "val_df.duration = val_df.duration.apply(lambda td: td.total_seconds() / 60)\n",
    "\n",
    "val_df = val_df[(val_df.duration >= 1) & (val_df.duration <= 60)]\n",
    "\n",
    "val_df = val_df[columns]\n",
    "\n",
    "val_df = val_df.fillna(-1)\n",
    "\n",
    "val_df[categorical] = val_df[categorical].astype(str)"
   ]
  },
  {
   "cell_type": "code",
   "execution_count": 37,
   "id": "75dfe32d",
   "metadata": {},
   "outputs": [
    {
     "data": {
      "text/plain": [
       "(990113, 525)"
      ]
     },
     "execution_count": 37,
     "metadata": {},
     "output_type": "execute_result"
    }
   ],
   "source": [
    "val_dicts = val_df[categorical].to_dict(orient='records')\n",
    "X_val = dv.transform(val_dicts)\n",
    "X_val.shape"
   ]
  },
  {
   "cell_type": "code",
   "execution_count": 38,
   "id": "a8fcd327",
   "metadata": {},
   "outputs": [
    {
     "data": {
      "text/plain": [
       "11.014283163400654"
      ]
     },
     "execution_count": 38,
     "metadata": {},
     "output_type": "execute_result"
    }
   ],
   "source": [
    "y_val = val_df.duration.values\n",
    "\n",
    "y_pred = lr.predict(X_val)\n",
    "\n",
    "mean_squared_error(y_val, y_pred, squared=False)"
   ]
  },
  {
   "cell_type": "markdown",
   "id": "8820efc2",
   "metadata": {},
   "source": [
    "###  The RMSE on validation dataset is 11.01"
   ]
  },
  {
   "cell_type": "code",
   "execution_count": null,
   "id": "9cb091d2",
   "metadata": {},
   "outputs": [],
   "source": []
  }
 ],
 "metadata": {
  "kernelspec": {
   "display_name": "Python 3 (ipykernel)",
   "language": "python",
   "name": "python3"
  },
  "language_info": {
   "codemirror_mode": {
    "name": "ipython",
    "version": 3
   },
   "file_extension": ".py",
   "mimetype": "text/x-python",
   "name": "python",
   "nbconvert_exporter": "python",
   "pygments_lexer": "ipython3",
   "version": "3.9.12"
  }
 },
 "nbformat": 4,
 "nbformat_minor": 5
}
